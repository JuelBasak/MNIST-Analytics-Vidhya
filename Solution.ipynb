{
 "cells": [
  {
   "cell_type": "markdown",
   "id": "b4fce664",
   "metadata": {},
   "source": [
    "# Importing the required libraries"
   ]
  },
  {
   "cell_type": "code",
   "execution_count": 1,
   "id": "22e7557e",
   "metadata": {},
   "outputs": [],
   "source": [
    "import numpy as np\n",
    "import pandas as pd\n",
    "import glob\n",
    "import matplotlib.pyplot as plt\n",
    "from PIL import Image\n",
    "from sklearn.utils import shuffle\n",
    "import os\n",
    "\n",
    "import tensorflow as tf\n",
    "from tensorflow import keras"
   ]
  },
  {
   "cell_type": "markdown",
   "id": "6b1a0377",
   "metadata": {},
   "source": [
    "# Reading the images and storing them in an efficient way"
   ]
  },
  {
   "cell_type": "code",
   "execution_count": 2,
   "id": "1500ad55",
   "metadata": {},
   "outputs": [],
   "source": [
    "def check_saved_data():\n",
    "    if not os.path.isdir('processed_data'): \n",
    "        os.mkdir('processed_data')\n",
    "        \n",
    "    if not os.path.isfile('train_data.npy'): \n",
    "        read_raw_data()\n",
    "        \n",
    "    if not os.path.isfile('train_target.npy'):\n",
    "        read_raw_target_data()\n",
    "\n",
    "        \n",
    "def read_raw_data():\n",
    "    path = os.path.join('Dataset', 'train.csv')\n",
    "    file_df = pd.read_csv(path)\n",
    "    \n",
    "    file_list = file_df['filename']\n",
    "    \n",
    "    path = os.path.join('Dataset', 'Images', 'train')\n",
    "    file_list = list(path + '/' + file_list)\n",
    "    \n",
    "    x = np.array([np.array(Image.open(fname)) for fname in file_list])\n",
    "    path = os.path.join('processed_data','train_data')\n",
    "    np.save(path, x)\n",
    "    \n",
    "    \n",
    "def read_raw_target_data():\n",
    "    path = os.path.join('Dataset','train.csv')\n",
    "    file_df = pd.read_csv(path)\n",
    "    \n",
    "    y = np.array(file_df['label'])\n",
    "    path = os.path.join('processed_data', 'train_target')\n",
    "    np.save(path, y)"
   ]
  },
  {
   "cell_type": "code",
   "execution_count": 3,
   "id": "c1e31aca",
   "metadata": {},
   "outputs": [],
   "source": [
    "check_saved_data()"
   ]
  },
  {
   "cell_type": "code",
   "execution_count": 4,
   "id": "83c4c9a4",
   "metadata": {},
   "outputs": [],
   "source": [
    "path = os.path.join('processed_data', 'train_data.npy')\n",
    "X_train_full = np.load(path)\n",
    "\n",
    "path = os.path.join('processed_data', 'train_target.npy')\n",
    "y_train_full = np.load(path)"
   ]
  },
  {
   "cell_type": "code",
   "execution_count": 5,
   "id": "0099a302",
   "metadata": {},
   "outputs": [
    {
     "data": {
      "text/plain": [
       "(49000, 28, 28, 4)"
      ]
     },
     "execution_count": 5,
     "metadata": {},
     "output_type": "execute_result"
    }
   ],
   "source": [
    "X_train_full.shape"
   ]
  },
  {
   "cell_type": "code",
   "execution_count": 6,
   "id": "a35139ef",
   "metadata": {
    "scrolled": true
   },
   "outputs": [],
   "source": [
    "X_train_full = X_train_full[:, :, :, 0].copy()"
   ]
  },
  {
   "cell_type": "code",
   "execution_count": 7,
   "id": "7162b86c",
   "metadata": {},
   "outputs": [
    {
     "data": {
      "text/plain": [
       "(49000, 28, 28)"
      ]
     },
     "execution_count": 7,
     "metadata": {},
     "output_type": "execute_result"
    }
   ],
   "source": [
    "X_train_full.shape"
   ]
  },
  {
   "cell_type": "markdown",
   "id": "492fcfc9",
   "metadata": {},
   "source": [
    "# Preprocessing the data"
   ]
  },
  {
   "cell_type": "code",
   "execution_count": 8,
   "id": "015d9c24",
   "metadata": {},
   "outputs": [],
   "source": [
    "X_train_full = X_train_full / 255."
   ]
  },
  {
   "cell_type": "code",
   "execution_count": 9,
   "id": "22dadad1",
   "metadata": {},
   "outputs": [
    {
     "data": {
      "image/png": "[encoded data removed]",
      "text/plain": [
       "<Figure size 432x288 with 1 Axes>"
      ]
     },
     "metadata": {
      "needs_background": "light"
     },
     "output_type": "display_data"
    },
    {
     "data": {
      "text/plain": [
       "9"
      ]
     },
     "execution_count": 9,
     "metadata": {},
     "output_type": "execute_result"
    }
   ],
   "source": [
    "index = 600\n",
    "plt.imshow(X_train_full[index])\n",
    "plt.show()\n",
    "\n",
    "y_train_full[index]"
   ]
  },
  {
   "cell_type": "markdown",
   "id": "7eef0fb4",
   "metadata": {},
   "source": [
    "# Train-Validation Split"
   ]
  },
  {
   "cell_type": "code",
   "execution_count": 10,
   "id": "55b3b5d5",
   "metadata": {},
   "outputs": [],
   "source": [
    "X_valid = X_train_full[:5000]\n",
    "y_valid = y_train_full[:5000]\n",
    "\n",
    "X_train = X_train_full[5000:]\n",
    "y_train = y_train_full[5000:]"
   ]
  },
  {
   "cell_type": "code",
   "execution_count": 11,
   "id": "cb7fd7c0",
   "metadata": {},
   "outputs": [
    {
     "data": {
      "text/plain": [
       "(5000, 28, 28)"
      ]
     },
     "execution_count": 11,
     "metadata": {},
     "output_type": "execute_result"
    }
   ],
   "source": [
    "X_valid.shape"
   ]
  },
  {
   "cell_type": "code",
   "execution_count": 12,
   "id": "2babab05",
   "metadata": {},
   "outputs": [
    {
     "data": {
      "text/plain": [
       "(44000, 28, 28)"
      ]
     },
     "execution_count": 12,
     "metadata": {},
     "output_type": "execute_result"
    }
   ],
   "source": [
    "X_train.shape"
   ]
  },
  {
   "cell_type": "code",
   "execution_count": 13,
   "id": "831d03a7",
   "metadata": {},
   "outputs": [],
   "source": [
    "X_train, y_train = shuffle(X_train, y_train, random_state=40)"
   ]
  },
  {
   "cell_type": "code",
   "execution_count": 14,
   "id": "3ad10f89",
   "metadata": {},
   "outputs": [
    {
     "data": {
      "image/png": "[encoded data removed]",
      "text/plain": [
       "<Figure size 432x288 with 1 Axes>"
      ]
     },
     "metadata": {
      "needs_background": "light"
     },
     "output_type": "display_data"
    },
    {
     "data": {
      "text/plain": [
       "2"
      ]
     },
     "execution_count": 14,
     "metadata": {},
     "output_type": "execute_result"
    }
   ],
   "source": [
    "index = 550\n",
    "plt.imshow(X_train[index])\n",
    "plt.show()\n",
    "y_train[index]"
   ]
  },
  {
   "cell_type": "markdown",
   "id": "22168253",
   "metadata": {},
   "source": [
    "# Deep Learning"
   ]
  },
  {
   "cell_type": "code",
   "execution_count": 15,
   "id": "adcd8f56",
   "metadata": {},
   "outputs": [],
   "source": [
    "model = keras.models.Sequential([\n",
    "    keras.layers.Flatten(input_shape=[28, 28]),\n",
    "    keras.layers.Dense(500, activation='relu'),\n",
    "    keras.layers.Dense(1000, activation='relu'),\n",
    "    keras.layers.Dense(100, activation='relu'),\n",
    "    keras.layers.Dense(10, activation='softmax'),\n",
    "])"
   ]
  },
  {
   "cell_type": "code",
   "execution_count": 16,
   "id": "6d2f9a52",
   "metadata": {},
   "outputs": [],
   "source": [
    "model.compile(loss = 'sparse_categorical_crossentropy', optimizer = 'sgd', metrics = ['accuracy'])"
   ]
  },
  {
   "cell_type": "code",
   "execution_count": 17,
   "id": "691c0224",
   "metadata": {},
   "outputs": [
    {
     "name": "stdout",
     "output_type": "stream",
     "text": [
      "Model: \"sequential\"\n",
      "_________________________________________________________________\n",
      "Layer (type)                 Output Shape              Param #   \n",
      "=================================================================\n",
      "flatten (Flatten)            (None, 784)               0         \n",
      "_________________________________________________________________\n",
      "dense (Dense)                (None, 500)               392500    \n",
      "_________________________________________________________________\n",
      "dense_1 (Dense)              (None, 1000)              501000    \n",
      "_________________________________________________________________\n",
      "dense_2 (Dense)              (None, 100)               100100    \n",
      "_________________________________________________________________\n",
      "dense_3 (Dense)              (None, 10)                1010      \n",
      "=================================================================\n",
      "Total params: 994,610\n",
      "Trainable params: 994,610\n",
      "Non-trainable params: 0\n",
      "_________________________________________________________________\n"
     ]
    }
   ],
   "source": [
    "model.summary()"
   ]
  },
  {
   "cell_type": "code",
   "execution_count": 18,
   "id": "58e7637a",
   "metadata": {
    "scrolled": true
   },
   "outputs": [
    {
     "name": "stdout",
     "output_type": "stream",
     "text": [
      "Epoch 1/30\n",
      "1375/1375 [==============================] - 3s 2ms/step - loss: 0.6417 - accuracy: 0.8332 - val_loss: 0.3150 - val_accuracy: 0.9112\n",
      "Epoch 2/30\n",
      "1375/1375 [==============================] - 2s 1ms/step - loss: 0.2715 - accuracy: 0.9218 - val_loss: 0.2470 - val_accuracy: 0.9278\n",
      "Epoch 3/30\n",
      "1375/1375 [==============================] - 2s 2ms/step - loss: 0.2159 - accuracy: 0.9383 - val_loss: 0.2058 - val_accuracy: 0.9436\n",
      "Epoch 4/30\n",
      "1375/1375 [==============================] - 2s 1ms/step - loss: 0.1790 - accuracy: 0.9482 - val_loss: 0.1860 - val_accuracy: 0.9460\n",
      "Epoch 5/30\n",
      "1375/1375 [==============================] - 2s 1ms/step - loss: 0.1517 - accuracy: 0.9569 - val_loss: 0.1630 - val_accuracy: 0.9526\n",
      "Epoch 6/30\n",
      "1375/1375 [==============================] - 2s 1ms/step - loss: 0.1317 - accuracy: 0.9629 - val_loss: 0.1471 - val_accuracy: 0.9564\n",
      "Epoch 7/30\n",
      "1375/1375 [==============================] - 2s 2ms/step - loss: 0.1150 - accuracy: 0.9672 - val_loss: 0.1362 - val_accuracy: 0.9640\n",
      "Epoch 8/30\n",
      "1375/1375 [==============================] - 2s 1ms/step - loss: 0.1010 - accuracy: 0.9712 - val_loss: 0.1271 - val_accuracy: 0.9648\n",
      "Epoch 9/30\n",
      "1375/1375 [==============================] - 2s 2ms/step - loss: 0.0896 - accuracy: 0.9747 - val_loss: 0.1180 - val_accuracy: 0.9662\n",
      "Epoch 10/30\n",
      "1375/1375 [==============================] - 2s 2ms/step - loss: 0.0799 - accuracy: 0.9771 - val_loss: 0.1125 - val_accuracy: 0.9684\n",
      "Epoch 11/30\n",
      "1375/1375 [==============================] - 2s 2ms/step - loss: 0.0717 - accuracy: 0.9797 - val_loss: 0.1297 - val_accuracy: 0.9616\n",
      "Epoch 12/30\n",
      "1375/1375 [==============================] - 2s 1ms/step - loss: 0.0646 - accuracy: 0.9822 - val_loss: 0.1057 - val_accuracy: 0.9688\n",
      "Epoch 13/30\n",
      "1375/1375 [==============================] - 2s 1ms/step - loss: 0.0574 - accuracy: 0.9837 - val_loss: 0.1008 - val_accuracy: 0.9696\n",
      "Epoch 14/30\n",
      "1375/1375 [==============================] - 2s 2ms/step - loss: 0.0513 - accuracy: 0.9858 - val_loss: 0.1009 - val_accuracy: 0.9696\n",
      "Epoch 15/30\n",
      "1375/1375 [==============================] - 2s 1ms/step - loss: 0.0469 - accuracy: 0.9875 - val_loss: 0.0993 - val_accuracy: 0.9702\n",
      "Epoch 16/30\n",
      "1375/1375 [==============================] - 2s 1ms/step - loss: 0.0420 - accuracy: 0.9889 - val_loss: 0.0955 - val_accuracy: 0.9724\n",
      "Epoch 17/30\n",
      "1375/1375 [==============================] - 2s 1ms/step - loss: 0.0379 - accuracy: 0.9903 - val_loss: 0.0952 - val_accuracy: 0.9724\n",
      "Epoch 18/30\n",
      "1375/1375 [==============================] - 2s 2ms/step - loss: 0.0341 - accuracy: 0.9916 - val_loss: 0.0940 - val_accuracy: 0.9732\n",
      "Epoch 19/30\n",
      "1375/1375 [==============================] - 2s 2ms/step - loss: 0.0309 - accuracy: 0.9925 - val_loss: 0.0931 - val_accuracy: 0.9744\n",
      "Epoch 20/30\n",
      "1375/1375 [==============================] - 2s 2ms/step - loss: 0.0279 - accuracy: 0.9933 - val_loss: 0.0902 - val_accuracy: 0.9734\n",
      "Epoch 21/30\n",
      "1375/1375 [==============================] - 2s 1ms/step - loss: 0.0253 - accuracy: 0.9942 - val_loss: 0.0977 - val_accuracy: 0.9720\n",
      "Epoch 22/30\n",
      "1375/1375 [==============================] - 2s 1ms/step - loss: 0.0230 - accuracy: 0.9951 - val_loss: 0.0907 - val_accuracy: 0.9746\n",
      "Epoch 23/30\n",
      "1375/1375 [==============================] - 2s 1ms/step - loss: 0.0212 - accuracy: 0.9957 - val_loss: 0.0896 - val_accuracy: 0.9730\n",
      "Epoch 24/30\n",
      "1375/1375 [==============================] - 2s 1ms/step - loss: 0.0187 - accuracy: 0.9967 - val_loss: 0.0888 - val_accuracy: 0.9746\n",
      "Epoch 25/30\n",
      "1375/1375 [==============================] - 2s 1ms/step - loss: 0.0169 - accuracy: 0.9968 - val_loss: 0.0911 - val_accuracy: 0.9748\n",
      "Epoch 26/30\n",
      "1375/1375 [==============================] - 2s 1ms/step - loss: 0.0154 - accuracy: 0.9972 - val_loss: 0.0935 - val_accuracy: 0.9736\n",
      "Epoch 27/30\n",
      "1375/1375 [==============================] - 2s 1ms/step - loss: 0.0139 - accuracy: 0.9980 - val_loss: 0.0898 - val_accuracy: 0.9744\n",
      "Epoch 28/30\n",
      "1375/1375 [==============================] - 2s 2ms/step - loss: 0.0126 - accuracy: 0.9982 - val_loss: 0.0902 - val_accuracy: 0.9752\n",
      "Epoch 29/30\n",
      "1375/1375 [==============================] - 2s 1ms/step - loss: 0.0116 - accuracy: 0.9985 - val_loss: 0.0918 - val_accuracy: 0.9750\n",
      "Epoch 30/30\n",
      "1375/1375 [==============================] - 2s 1ms/step - loss: 0.0106 - accuracy: 0.9985 - val_loss: 0.0919 - val_accuracy: 0.9748\n"
     ]
    }
   ],
   "source": [
    "history = model.fit(X_train, y_train, validation_data=(X_valid, y_valid), epochs=30)"
   ]
  },
  {
   "cell_type": "code",
   "execution_count": 19,
   "id": "5de346ab",
   "metadata": {},
   "outputs": [
    {
     "data": {
      "image/png": "[encoded data removed]",
      "text/plain": [
       "<Figure size 720x576 with 1 Axes>"
      ]
     },
     "metadata": {
      "needs_background": "light"
     },
     "output_type": "display_data"
    }
   ],
   "source": [
    "pd.DataFrame(history.history).plot(figsize=(10, 8))\n",
    "plt.show()"
   ]
  },
  {
   "cell_type": "code",
   "execution_count": 20,
   "id": "1cde9ee6",
   "metadata": {},
   "outputs": [],
   "source": [
    "if not os.path.isdir('model'):\n",
    "    os.mkdir('model')\n",
    "    \n",
    "    \n",
    "path = os.path.join('model', 'ann_model.h5')\n",
    "model.save(path)"
   ]
  },
  {
   "cell_type": "code",
   "execution_count": 21,
   "id": "8261dbd9",
   "metadata": {},
   "outputs": [
    {
     "name": "stdout",
     "output_type": "stream",
     "text": [
      "157/157 [==============================] - 0s 1ms/step - loss: 0.0919 - accuracy: 0.9748\n"
     ]
    },
    {
     "data": {
      "text/plain": [
       "[0.09187909215688705, 0.9747999906539917]"
      ]
     },
     "execution_count": 21,
     "metadata": {},
     "output_type": "execute_result"
    }
   ],
   "source": [
    "model.evaluate(X_valid, y_valid)"
   ]
  },
  {
   "cell_type": "markdown",
   "id": "d1a6f917",
   "metadata": {},
   "source": [
    "# Prediction on Test Data"
   ]
  },
  {
   "cell_type": "code",
   "execution_count": 22,
   "id": "265141f9",
   "metadata": {},
   "outputs": [],
   "source": [
    "def read_test_data(test_dir):\n",
    "    test_file_path = glob.glob(f'{test_dir}/*.png')\n",
    "    \n",
    "    \n",
    "    test_data = np.array([np.array(Image.open(fname)) for fname in test_file_path])\n",
    "    if not os.path.isdir('processed_data'):\n",
    "        os.mkdir('processed_data')\n",
    "        \n",
    "    path = os.path.join('processed_data', 'test_data')\n",
    "    np.save(path, test_data)\n",
    "    \n",
    "\n",
    "TEST_DIR = os.path.join('Dataset', 'Images', 'test')\n",
    "read_test_data(TEST_DIR)"
   ]
  },
  {
   "cell_type": "code",
   "execution_count": 23,
   "id": "ee1b2098",
   "metadata": {},
   "outputs": [],
   "source": [
    "path = os.path.join('processed_data', 'test_data.npy')\n",
    "X_test = np.load(path)\n",
    "X_test = X_test[:, :, :, 0].copy()\n",
    "X_test = X_test / 255."
   ]
  },
  {
   "cell_type": "code",
   "execution_count": 24,
   "id": "559662d0",
   "metadata": {},
   "outputs": [
    {
     "data": {
      "text/plain": [
       "<matplotlib.image.AxesImage at 0x191b6adf220>"
      ]
     },
     "execution_count": 24,
     "metadata": {},
     "output_type": "execute_result"
    },
    {
     "data": {
      "image/png": "[encoded data removed]",
      "text/plain": [
       "<Figure size 432x288 with 1 Axes>"
      ]
     },
     "metadata": {
      "needs_background": "light"
     },
     "output_type": "display_data"
    }
   ],
   "source": [
    "plt.imshow(X_test[0])"
   ]
  },
  {
   "cell_type": "code",
   "execution_count": 25,
   "id": "81519e79",
   "metadata": {},
   "outputs": [],
   "source": [
    "path = os.path.join('model', 'ann_model.h5')\n",
    "model = keras.models.load_model(path)"
   ]
  },
  {
   "cell_type": "code",
   "execution_count": 26,
   "id": "f971e10e",
   "metadata": {},
   "outputs": [
    {
     "data": {
      "text/plain": [
       "array([4, 0, 9, ..., 6, 6, 2], dtype=int64)"
      ]
     },
     "execution_count": 26,
     "metadata": {},
     "output_type": "execute_result"
    }
   ],
   "source": [
    "pred = model.predict(X_test)\n",
    "np.argmax(pred, axis=1)"
   ]
  },
  {
   "cell_type": "code",
   "execution_count": 27,
   "id": "377b55c2",
   "metadata": {},
   "outputs": [
    {
     "data": {
      "text/plain": [
       "'Dataset\\\\Images\\\\test'"
      ]
     },
     "execution_count": 27,
     "metadata": {},
     "output_type": "execute_result"
    }
   ],
   "source": [
    "os.path.join('Dataset', 'Images', 'test')"
   ]
  },
  {
   "cell_type": "markdown",
   "id": "54e90eaf",
   "metadata": {},
   "source": [
    "# Saving the predictions in a structured csv format"
   ]
  },
  {
   "cell_type": "code",
   "execution_count": 28,
   "id": "c748fa6e",
   "metadata": {},
   "outputs": [],
   "source": [
    "def save_output_data(pred):\n",
    "    path = os.path.join('Dataset', 'Images', 'test')\n",
    "    os.chdir(path)\n",
    "    \n",
    "    output = pd.DataFrame(glob.glob('*.png'), columns=['filename'])\n",
    "    output['label'] = np.argmax(pred, axis=1)\n",
    "    \n",
    "    os.chdir('../../../')\n",
    "    \n",
    "    if not os.path.isdir('output'):\n",
    "        os.makedirs('output')\n",
    "    output.to_csv('output/output.csv', index=False)\n",
    "\n",
    "save_output_data(pred)"
   ]
  }
 ],
 "metadata": {
  "kernelspec": {
   "display_name": "Python 3 (ipykernel)",
   "language": "python",
   "name": "python3"
  },
  "language_info": {
   "codemirror_mode": {
    "name": "ipython",
    "version": 3
   },
   "file_extension": ".py",
   "mimetype": "text/x-python",
   "name": "python",
   "nbconvert_exporter": "python",
   "pygments_lexer": "ipython3",
   "version": "3.9.7"
  }
 },
 "nbformat": 4,
 "nbformat_minor": 5
}
